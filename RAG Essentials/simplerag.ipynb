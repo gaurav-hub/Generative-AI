{
 "cells": [
  {
   "cell_type": "code",
   "execution_count": null,
   "id": "025ae708",
   "metadata": {},
   "outputs": [],
   "source": [
    "# DATA INGESTION\n",
    "# !pip install langchain langchain-community\n",
    "# ! pip install beautifulsoup4 requests\n",
    "# ! pip install pypdf\n",
    "# ! pip install chromadb\n",
    "! pip install faiss-cpu"
   ]
  },
  {
   "cell_type": "code",
   "execution_count": null,
   "id": "69fd47eb",
   "metadata": {},
   "outputs": [],
   "source": [
    "from langchain_community.document_loaders import TextLoader\n",
    "\n",
    "loader = TextLoader(\"speech.txt\")\n",
    "text_document = loader.load()\n",
    "text_document"
   ]
  },
  {
   "cell_type": "code",
   "execution_count": null,
   "id": "a4bea648",
   "metadata": {},
   "outputs": [],
   "source": [
    "import os\n",
    "from dotenv import load_dotenv\n",
    "\n",
    "load_dotenv()\n",
    "os.getenv(\"OPENAI_API_KEY\")\n",
    "\n"
   ]
  },
  {
   "cell_type": "code",
   "execution_count": null,
   "id": "73992cec",
   "metadata": {},
   "outputs": [],
   "source": [
    "from langchain_community.document_loaders import WebBaseLoader\n",
    "import bs4\n",
    "\n",
    "## load,chunk and index the content of the html page\n",
    "\n",
    "loader=WebBaseLoader(web_paths=(\"https://lilianweng.github.io/posts/2023-06-23-agent/\",),\n",
    "                     bs_kwargs=dict(parse_only=bs4.SoupStrainer(\n",
    "                         class_=(\"post-title\",\"post-content\",\"post-header\")\n",
    "\n",
    "                     )))\n",
    "\n",
    "text_documents=loader.load()"
   ]
  },
  {
   "cell_type": "code",
   "execution_count": null,
   "id": "1310920c",
   "metadata": {},
   "outputs": [],
   "source": [
    "text_documents"
   ]
  },
  {
   "cell_type": "code",
   "execution_count": null,
   "id": "f0df6ecb",
   "metadata": {},
   "outputs": [],
   "source": [
    "from langchain_community.document_loaders import PyPDFLoader\n",
    "\n",
    "loader = PyPDFLoader('attention.pdf')\n",
    "pdf_document = loader.load()\n",
    "pdf_document"
   ]
  },
  {
   "cell_type": "markdown",
   "id": "6d982b18",
   "metadata": {},
   "source": [
    "Splitting Text (Tranform)"
   ]
  },
  {
   "cell_type": "code",
   "execution_count": null,
   "id": "f778843c",
   "metadata": {},
   "outputs": [],
   "source": [
    "from langchain.text_splitter import RecursiveCharacterTextSplitter\n",
    "\n",
    "text_splitter = RecursiveCharacterTextSplitter(chunk_size =1000, chunk_overlap = 200)\n",
    "documents = text_splitter.split_documents(pdf_document)\n",
    "\n",
    "documents[:5]"
   ]
  },
  {
   "cell_type": "code",
   "execution_count": null,
   "id": "b1ed95b8",
   "metadata": {},
   "outputs": [],
   "source": [
    "# Vector embeddings and vector store\n",
    "\n",
    "from langchain_community.embeddings import OpenAIEmbeddings\n",
    "from langchain_community.vectorstores import Chroma\n",
    "\n",
    "db= Chroma.from_documents(documents[:20],OpenAIEmbeddings())"
   ]
  },
  {
   "cell_type": "code",
   "execution_count": null,
   "id": "fa44cbad",
   "metadata": {},
   "outputs": [],
   "source": [
    "## Vector database\n",
    "query = \"An attention function can be?\"\n",
    "result = db.similarity_search(query)\n",
    "result[0].page_content"
   ]
  },
  {
   "cell_type": "code",
   "execution_count": null,
   "id": "f9902f26",
   "metadata": {},
   "outputs": [],
   "source": [
    "# FAISS Vector Database\n",
    "\n",
    "from langchain_community.vectorstores import FAISS\n",
    "\n",
    "db1 = FAISS.from_documents(documents[:20],OpenAIEmbeddings())\n",
    "\n",
    "query = \"Who are the authors of the attention is all you need research paper?\"\n",
    "result = db1.similarity_search(query)\n",
    "result[0].page_content"
   ]
  },
  {
   "cell_type": "code",
   "execution_count": null,
   "id": "076148dd",
   "metadata": {},
   "outputs": [],
   "source": []
  },
  {
   "cell_type": "code",
   "execution_count": null,
   "id": "e4047eea",
   "metadata": {},
   "outputs": [],
   "source": []
  },
  {
   "cell_type": "code",
   "execution_count": null,
   "id": "2ae9a57f",
   "metadata": {},
   "outputs": [],
   "source": []
  },
  {
   "cell_type": "code",
   "execution_count": null,
   "id": "f67f67ae",
   "metadata": {},
   "outputs": [],
   "source": []
  }
 ],
 "metadata": {
  "kernelspec": {
   "display_name": "venv",
   "language": "python",
   "name": "python3"
  },
  "language_info": {
   "codemirror_mode": {
    "name": "ipython",
    "version": 3
   },
   "file_extension": ".py",
   "mimetype": "text/x-python",
   "name": "python",
   "nbconvert_exporter": "python",
   "pygments_lexer": "ipython3",
   "version": "3.12.10"
  }
 },
 "nbformat": 4,
 "nbformat_minor": 5
}
